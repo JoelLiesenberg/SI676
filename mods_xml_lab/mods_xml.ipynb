{
 "cells": [
  {
   "cell_type": "markdown",
   "metadata": {},
   "source": [
    "### MODS XML & XPath Lab"
   ]
  },
  {
   "cell_type": "markdown",
   "metadata": {},
   "source": [
    "1. To make sure things are working, adapt the code from class that we used to count the individual MODS records in the file. How many are there?"
   ]
  },
  {
   "cell_type": "code",
   "execution_count": 2,
   "metadata": {},
   "outputs": [],
   "source": [
    "import xml.etree.ElementTree as ET\n",
    "import os"
   ]
  },
  {
   "cell_type": "code",
   "execution_count": 8,
   "metadata": {},
   "outputs": [],
   "source": [
    "mods = ET.parse(open('2018_lcwa_MODS_25.xml'))\n",
    "root = mods.getroot()"
   ]
  },
  {
   "cell_type": "code",
   "execution_count": 13,
   "metadata": {},
   "outputs": [
    {
     "name": "stdout",
     "output_type": "stream",
     "text": [
      "Answer: 25\n"
     ]
    }
   ],
   "source": [
    "record_count = 0\n",
    "\n",
    "for record in root: \n",
    "    record_count += 1\n",
    "\n",
    "print(f\"Answer: {record_count}\")"
   ]
  },
  {
   "cell_type": "markdown",
   "metadata": {},
   "source": [
    "2. These records contain 'subject' designations, but only some of these correspond to headings that are authorized headings in the Library of Congress Subject Headings. Those are marked with an attribute authority='lcsh', which is indicated as an embedded attribute in the tag. Look through 'subject' tags, identify only the ones that include an LCSH attribute, then print the content of those subject headings. Use an XPath expression here."
   ]
  },
  {
   "cell_type": "code",
   "execution_count": 14,
   "metadata": {},
   "outputs": [],
   "source": [
    "ns = {\n",
    "    'mods': 'http://www.loc.gov/mods/v3'\n",
    "}"
   ]
  },
  {
   "cell_type": "code",
   "execution_count": 47,
   "metadata": {},
   "outputs": [
    {
     "name": "stdout",
     "output_type": "stream",
     "text": [
      "{http://www.loc.gov/mods/v3}topic {} Animals\n",
      "{http://www.loc.gov/mods/v3}topic {} Memes\n",
      "{http://www.loc.gov/mods/v3}topic {} Memes\n",
      "{http://www.loc.gov/mods/v3}topic {} Memes\n",
      "{http://www.loc.gov/mods/v3}topic {} Web portals\n",
      "{http://www.loc.gov/mods/v3}topic {} Political candidates\n",
      "{http://www.loc.gov/mods/v3}topic {} Elections\n",
      "{http://www.loc.gov/mods/v3}topic {} Politics and government\n",
      "{http://www.loc.gov/mods/v3}topic {} Political candidates\n",
      "{http://www.loc.gov/mods/v3}topic {} Elections\n",
      "{http://www.loc.gov/mods/v3}topic {} Politics and government\n",
      "{http://www.loc.gov/mods/v3}topic {} Political candidates\n",
      "{http://www.loc.gov/mods/v3}topic {} Elections\n",
      "{http://www.loc.gov/mods/v3}topic {} Politics and government\n",
      "{http://www.loc.gov/mods/v3}topic {} Political candidates\n",
      "{http://www.loc.gov/mods/v3}topic {} Elections\n",
      "{http://www.loc.gov/mods/v3}topic {} Politics and government\n",
      "{http://www.loc.gov/mods/v3}topic {} Political candidates\n",
      "{http://www.loc.gov/mods/v3}topic {} Elections\n",
      "{http://www.loc.gov/mods/v3}topic {} Politics and government\n"
     ]
    }
   ],
   "source": [
    "for subject in root.findall('.//mods:subject[@authority=\"lcsh\"]/mods:topic', namespaces=ns):\n",
    "    print(subject.tag, subject.attrib, subject.text)"
   ]
  },
  {
   "cell_type": "markdown",
   "metadata": {},
   "source": [
    "3. Data validation: check the local call number references to ensure that they are in the proper format (e.g., lcwaAddddddd). Try adapting the regular expression implementation that we used in class. Hint: this is very similar to what we did in class, but you will need to modify the regex: look carefully at the identifiers because some will be similar but won't match the expression we built in class. "
   ]
  },
  {
   "cell_type": "code",
   "execution_count": 46,
   "metadata": {},
   "outputs": [
    {
     "name": "stdout",
     "output_type": "stream",
     "text": [
      "lcwaN0010234\n",
      "lcwaN0001999\n",
      "lcwaN0003238\n",
      "lcwaN0010144\n",
      "lcwaN0010145\n",
      "lcwaN0012178\n",
      "lcwaN0012179\n",
      "lcwaN0012180\n",
      "lcwaN0012184\n",
      "lcwaN0012195\n",
      "lcwaN0010932\n",
      "lcwaN0010933\n",
      "lcwaN0010936\n",
      "lcwaN0010937\n",
      "lcwaN0010940\n",
      "lcwaN0010888\n",
      "lcwaN0010226\n",
      "lcwaN0009692\n",
      "lcwaN0009700\n",
      "lcwaN0010401\n",
      "lcwaE0008846\n",
      "lcwaE0008263\n",
      "lcwaE0008338\n",
      "lcwaE0008918\n",
      "lcwaE0008001\n"
     ]
    }
   ],
   "source": [
    "import re\n",
    "\n",
    "for identifier in root.findall('.//mods:identifier', namespaces=ns):\n",
    "    if identifier.text in re.findall(\"lcwa[A-Z]{1}\\d{7}\", identifier.text):\n",
    "        print(identifier.text)"
   ]
  },
  {
   "cell_type": "markdown",
   "metadata": {},
   "source": [
    "4. Data addition or modification: identify the local call numbers, then check to make sure all of them have appropriate attribute data attached. As in class, make sure that there is a type attribute as well as an updated attribute. You can add more if you want to."
   ]
  },
  {
   "cell_type": "code",
   "execution_count": 53,
   "metadata": {},
   "outputs": [
    {
     "name": "stdout",
     "output_type": "stream",
     "text": [
      "{'type': 'call_number', 'updated': 'yes'}\n",
      "{'type': 'call_number', 'updated': 'yes'}\n",
      "{'type': 'call_number', 'updated': 'yes'}\n",
      "{'type': 'call_number', 'updated': 'yes'}\n",
      "{'type': 'call_number', 'updated': 'yes'}\n",
      "{'type': 'call_number', 'updated': 'yes'}\n",
      "{'type': 'call_number', 'updated': 'yes'}\n",
      "{'type': 'call_number', 'updated': 'yes'}\n",
      "{'type': 'call_number', 'updated': 'yes'}\n",
      "{'type': 'call_number', 'updated': 'yes'}\n",
      "{'type': 'call_number', 'updated': 'yes'}\n",
      "{'type': 'call_number', 'updated': 'yes'}\n",
      "{'type': 'call_number', 'updated': 'yes'}\n",
      "{'type': 'call_number', 'updated': 'yes'}\n",
      "{'type': 'call_number', 'updated': 'yes'}\n",
      "{'type': 'call_number', 'updated': 'yes'}\n",
      "{'type': 'call_number', 'updated': 'yes'}\n",
      "{'type': 'call_number', 'updated': 'yes'}\n",
      "{'type': 'call_number', 'updated': 'yes'}\n",
      "{'type': 'call_number', 'updated': 'yes'}\n",
      "{'type': 'call_number', 'updated': 'yes'}\n",
      "{'type': 'call_number', 'updated': 'yes'}\n",
      "{'type': 'call_number', 'updated': 'yes'}\n",
      "{'type': 'call_number', 'updated': 'yes'}\n",
      "{'type': 'call_number', 'updated': 'yes'}\n"
     ]
    }
   ],
   "source": [
    "from datetime import date\n",
    "\n",
    "for identifier in root.findall('.//mods:identifier', namespaces=ns):\n",
    "    if identifier.text in re.findall(\"lcwa[A-Z]{1}\\d{7}\", identifier.text):\n",
    "        identifier.set('type', 'call_number')\n",
    "        identifier.set('updated', 'yes')\n",
    "        print(identifier.attrib)"
   ]
  },
  {
   "cell_type": "markdown",
   "metadata": {},
   "source": [
    "5. Save the updated records to a new file, which includes a valid namespace declaration for MODS, is well-formed MODS, has an appropriate XML document type declaration, and is valid XML."
   ]
  },
  {
   "cell_type": "code",
   "execution_count": 54,
   "metadata": {},
   "outputs": [],
   "source": [
    "ET.register_namespace('mods', 'http://www.loc.gov/mods/v3')\n",
    "\n",
    "mods.write('2018_lcwa_MODS_25.xml', xml_declaration=True, encoding='utf-8', method='xml')"
   ]
  }
 ],
 "metadata": {
  "kernelspec": {
   "display_name": "Python 3.10.6 64-bit",
   "language": "python",
   "name": "python3"
  },
  "language_info": {
   "codemirror_mode": {
    "name": "ipython",
    "version": 3
   },
   "file_extension": ".py",
   "mimetype": "text/x-python",
   "name": "python",
   "nbconvert_exporter": "python",
   "pygments_lexer": "ipython3",
   "version": "3.10.6"
  },
  "orig_nbformat": 4,
  "vscode": {
   "interpreter": {
    "hash": "aee8b7b246df8f9039afb4144a1f6fd8d2ca17a180786b69acc140d282b71a49"
   }
  }
 },
 "nbformat": 4,
 "nbformat_minor": 2
}
